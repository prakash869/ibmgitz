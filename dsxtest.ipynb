{
    "cells": [
        {
            "cell_type": "code", 
            "metadata": {
                "collapsed": true
            }, 
            "outputs": [], 
            "execution_count": null, 
            "source": "%matplotlib inline\nfrom matplotlib.pylab import plt\n\nimport pandas as pd\nimport numpy as np\nimport statsmodels"
        }, 
        {
            "cell_type": "code", 
            "metadata": {
                "collapsed": false
            }, 
            "outputs": [], 
            "execution_count": null, 
            "source": "import statsmodels\nprint(statsmodels.__version__)\nprint(np.__version__)\nprint(pd.__version__)"
        }, 
        {
            "cell_type": "markdown", 
            "metadata": {}, 
            "source": "# Let's start with some informal exploration"
        }, 
        {
            "cell_type": "code", 
            "metadata": {
                "collapsed": false
            }, 
            "outputs": [], 
            "execution_count": null, 
            "source": "air_passengers = pd.read_csv(\"./data/AirPassengers.csv\", header = 0, parse_dates = [0], names = ['Month', 'Passengers'], index_col = 0)"
        }, 
        {
            "cell_type": "code", 
            "metadata": {
                "collapsed": false
            }, 
            "outputs": [], 
            "execution_count": null, 
            "source": "air_passengers.head()"
        }, 
        {
            "cell_type": "markdown", 
            "metadata": {}, 
            "source": "### Is this the behavior I want?"
        }, 
        {
            "cell_type": "code", 
            "metadata": {
                "collapsed": false
            }, 
            "outputs": [], 
            "execution_count": null, 
            "source": "air_passengers['1949-01-05':'1949-02-17']"
        }, 
        {
            "cell_type": "code", 
            "metadata": {
                "collapsed": false
            }, 
            "outputs": [], 
            "execution_count": null, 
            "source": "# How do we get the desired behavior?"
        }, 
        {
            "cell_type": "code", 
            "metadata": {
                "collapsed": false
            }, 
            "outputs": [], 
            "execution_count": null, 
            "source": "air_passengers['1949-01-05':'1949-02-17']"
        }, 
        {
            "cell_type": "markdown", 
            "metadata": {}, 
            "source": "### Think about what your data means. Pandas can't do the thinking for you"
        }, 
        {
            "cell_type": "code", 
            "metadata": {
                "collapsed": false
            }, 
            "outputs": [], 
            "execution_count": null, 
            "source": "air_passengers.plot()"
        }, 
        {
            "cell_type": "code", 
            "metadata": {
                "collapsed": false
            }, 
            "outputs": [], 
            "execution_count": null, 
            "source": "air_passengers['1950'].plot(kind = 'bar')"
        }, 
        {
            "cell_type": "code", 
            "metadata": {
                "collapsed": false
            }, 
            "outputs": [], 
            "execution_count": null, 
            "source": "air_passengers['1951'].plot(kind = 'bar')"
        }, 
        {
            "cell_type": "markdown", 
            "metadata": {
                "collapsed": true
            }, 
            "source": "# Getting a little more formal\n### first thing we look at for a time series when we want to use common analysis techniques:\n### is it stationary: mean, variance, autocovariance do not depend on time"
        }, 
        {
            "cell_type": "code", 
            "metadata": {
                "collapsed": false
            }, 
            "outputs": [], 
            "execution_count": null, 
            "source": "# first test, informally, plot the moving average\n# note the ROLLING function\nair_passengers.rolling(window = 60).mean().plot()"
        }, 
        {
            "cell_type": "code", 
            "metadata": {
                "collapsed": false
            }, 
            "outputs": [], 
            "execution_count": null, 
            "source": "# How can we see whether the variance changes over time?"
        }, 
        {
            "cell_type": "code", 
            "metadata": {
                "collapsed": true
            }, 
            "outputs": [], 
            "execution_count": null, 
            "source": "# Can you plot the autocorrelation?\nfrom statsmodels.tsa.stattools import acf"
        }, 
        {
            "cell_type": "code", 
            "metadata": {
                "collapsed": false
            }, 
            "outputs": [], 
            "execution_count": null, 
            "source": "# What is the autocorrelation and how can we visualize it? "
        }, 
        {
            "cell_type": "markdown", 
            "metadata": {}, 
            "source": "### How can I see whether the autocorrelation is changing over time?"
        }, 
        {
            "cell_type": "code", 
            "metadata": {
                "collapsed": false
            }, 
            "outputs": [], 
            "execution_count": null, 
            "source": "# What would we do differently from above?\n"
        }, 
        {
            "cell_type": "markdown", 
            "metadata": {}, 
            "source": "### Always have to make judgment calls"
        }, 
        {
            "cell_type": "code", 
            "metadata": {
                "collapsed": false
            }, 
            "outputs": [], 
            "execution_count": null, 
            "source": "# How should you size your window?\nair_passengers.rolling(window = 120).var().plot()"
        }, 
        {
            "cell_type": "markdown", 
            "metadata": {}, 
            "source": "# And now let's make it formal"
        }, 
        {
            "cell_type": "code", 
            "metadata": {
                "collapsed": false
            }, 
            "outputs": [], 
            "execution_count": null, 
            "source": "# next more formally apply the Augmented Dickey-Fuller test\nfrom statsmodels.tsa.stattools import adfuller\nadfuller(air_passengers.Passengers, autolag = 'AIC', regression = 'ct')"
        }, 
        {
            "cell_type": "markdown", 
            "metadata": {
                "collapsed": false
            }, 
            "source": "### What do these numbers mean? Let's take a look at statsmodels documentation"
        }, 
        {
            "cell_type": "code", 
            "metadata": {
                "collapsed": true
            }, 
            "outputs": [], 
            "execution_count": null, 
            "source": "# Can we write a function to output these #s sensibly?\n# Check out statsmodels.sourceforge.net/devel/generated/statsmodels.tsa.stattools.adfuller.html"
        }, 
        {
            "cell_type": "markdown", 
            "metadata": {}, 
            "source": "# Where do we go from here?"
        }, 
        {
            "cell_type": "code", 
            "metadata": {
                "collapsed": true
            }, 
            "outputs": [], 
            "execution_count": null, 
            "source": "# Are we stuck not doing any analysis now that our time series is not stationary? Hint: no.\n# How can we make it stationary?\n# Why is it non-stationary (2 reasons)"
        }, 
        {
            "cell_type": "code", 
            "metadata": {
                "collapsed": false
            }, 
            "outputs": [], 
            "execution_count": null, 
            "source": "# One method to get rid of time varying variance is to do a power or log transformation that punishes larger values\n# more than smaller values\nlog_passengers = air_passengers.Passengers.apply(lambda x: np.log(x))\nlog_passengers.plot()"
        }, 
        {
            "cell_type": "code", 
            "metadata": {
                "collapsed": false
            }, 
            "outputs": [], 
            "execution_count": null, 
            "source": "# Let's see what that looks like as a power transformation\nrt_passengers = air_passengers.Passengers.apply(lambda x: x**.5)\nrt_passengers.plot()"
        }, 
        {
            "cell_type": "code", 
            "metadata": {
                "collapsed": false
            }, 
            "outputs": [], 
            "execution_count": null, 
            "source": "# This reduces the variance in variance as opposed to the original trend\nair_passengers.plot()"
        }, 
        {
            "cell_type": "code", 
            "metadata": {
                "collapsed": false
            }, 
            "outputs": [], 
            "execution_count": null, 
            "source": "# However there is still a trend we need to remove\n# Let's calculate a rolling mean\n# Experiment with window size\nair_passengers.rolling(window = 12).mean().plot()"
        }, 
        {
            "cell_type": "code", 
            "metadata": {
                "collapsed": false
            }, 
            "outputs": [], 
            "execution_count": null, 
            "source": "# What if we subtract this rolling mean from the original series?\nrolling_mean = air_passengers.rolling(window = 12).mean()\npassengers_detrended = air_passengers - rolling_mean\npassengers_detrended.plot()"
        }, 
        {
            "cell_type": "code", 
            "metadata": {
                "collapsed": false
            }, 
            "outputs": [], 
            "execution_count": null, 
            "source": "# Exercise: try detrending after taking the log. How does that look?\nlog_rolling_mean = log_passengers.rolling(window = 12).mean()\nlog_detrended = log_passengers - log_rolling_mean\nlog_detrended.plot()"
        }, 
        {
            "cell_type": "code", 
            "metadata": {
                "collapsed": false
            }, 
            "outputs": [], 
            "execution_count": null, 
            "source": "log_detrended.rolling(20).median().plot()"
        }, 
        {
            "cell_type": "code", 
            "metadata": {
                "collapsed": false
            }, 
            "outputs": [], 
            "execution_count": null, 
            "source": "# Exercise: try detrending before taking the log. How does that look?\nrolling_mean = air_passengers.rolling(window = 12).mean()\npassengers_detrended = air_passengers - rolling_mean\nlog_detrended2 = passengers_detrended.Passengers.apply(lambda x: np.log(x))\nlog_detrended2.plot()"
        }, 
        {
            "cell_type": "markdown", 
            "metadata": {}, 
            "source": "### Why didn't that work?"
        }, 
        {
            "cell_type": "code", 
            "metadata": {
                "collapsed": false
            }, 
            "outputs": [], 
            "execution_count": null, 
            "source": "# Now let's use a regression rather than a rolling mean to detrend\nfrom statsmodels.regression.linear_model import OLS\nmodel = OLS(air_passengers.Passengers.values, list(range(len(air_passengers.values))))\nresult = model.fit()\nresult.params\nfit = pd.Series(result.predict(list(range(len(air_passengers.values)))), index = air_passengers.index)\n\npassengers_detrended = air_passengers.Passengers - fit\npassengers_detrended.plot()"
        }, 
        {
            "cell_type": "code", 
            "metadata": {
                "collapsed": false
            }, 
            "outputs": [], 
            "execution_count": null, 
            "source": "passengers_detrended.rolling(20).median().plot()"
        }, 
        {
            "cell_type": "markdown", 
            "metadata": {}, 
            "source": "### What worked better, the rolling average or the regression? Why?"
        }, 
        {
            "cell_type": "markdown", 
            "metadata": {
                "collapsed": false
            }, 
            "source": "# Seasonality"
        }, 
        {
            "cell_type": "markdown", 
            "metadata": {}, 
            "source": "### Differencing"
        }, 
        {
            "cell_type": "code", 
            "metadata": {
                "collapsed": false
            }, 
            "outputs": [], 
            "execution_count": null, 
            "source": "(air_passengers.Passengers - air_passengers.Passengers.shift()).plot()"
        }, 
        {
            "cell_type": "code", 
            "metadata": {
                "collapsed": false
            }, 
            "outputs": [], 
            "execution_count": null, 
            "source": "# One common technique is differencing, let's start with log_passengers\nlog_passengers_diff = log_passengers - log_passengers.shift()\nlog_passengers_diff.plot()"
        }, 
        {
            "cell_type": "code", 
            "metadata": {
                "collapsed": false
            }, 
            "outputs": [], 
            "execution_count": null, 
            "source": "# Let's again test for stationarity with a gut level check.\n# And let's write a function to do it since this seems like something we'll have to do a lot"
        }, 
        {
            "cell_type": "code", 
            "metadata": {
                "collapsed": false
            }, 
            "outputs": [], 
            "execution_count": null, 
            "source": "log_passengers = log_passengers.to_timestamp()"
        }, 
        {
            "cell_type": "code", 
            "metadata": {
                "collapsed": false
            }, 
            "outputs": [], 
            "execution_count": null, 
            "source": "from statsmodels.tsa.seasonal import seasonal_decompose\n\nlog_passengers.interpolate(inplace = True)\ndecomposition = seasonal_decompose(log_passengers, model = 'multiplicative')\ndecomposition.plot()"
        }, 
        {
            "cell_type": "markdown", 
            "metadata": {}, 
            "source": "### Seasonal or multiplicative time series?"
        }, 
        {
            "cell_type": "code", 
            "metadata": {
                "collapsed": false
            }, 
            "outputs": [], 
            "execution_count": null, 
            "source": "# When to use which?"
        }, 
        {
            "cell_type": "code", 
            "metadata": {
                "collapsed": false
            }, 
            "outputs": [], 
            "execution_count": null, 
            "source": "decomposition = seasonal_decompose(log_passengers, model = 'multiplicative')\ntrend = decomposition.trend\nseasonal = decomposition.seasonal\nresidual = decomposition.resid"
        }, 
        {
            "cell_type": "code", 
            "metadata": {
                "collapsed": false
            }, 
            "outputs": [], 
            "execution_count": null, 
            "source": "plt.plot(log_passengers, label='Original')\nplt.plot(trend, label='Trend')\nplt.plot(seasonal,label='Seasonality')\nplt.plot(residual, label='Residuals')\nplt.legend(loc = 'best')"
        }, 
        {
            "cell_type": "markdown", 
            "metadata": {}, 
            "source": "# Let's walk through seasonal_decompose"
        }, 
        {
            "cell_type": "code", 
            "metadata": {
                "collapsed": false
            }, 
            "outputs": [], 
            "execution_count": null, 
            "source": "\nfrom statsmodels.compat.python import lmap, range, iteritems\nimport numpy as np\nfrom pandas.core.nanops import nanmean as pd_nanmean\nfrom statsmodels.tsa.filters._utils import _maybe_get_pandas_wrapper_freq\nfrom statsmodels.tsa.filters.filtertools import convolution_filter\nfrom statsmodels.tsa.tsatools import freq_to_period\n\ndef seasonal_decompose(x, model=\"additive\", filt=None, freq=None, two_sided=True):\n    \"\"\"\n    Seasonal decomposition using moving averages\n    Parameters\n    ----------\n    x : array-like\n        Time series\n    model : str {\"additive\", \"multiplicative\"}\n        Type of seasonal component. Abbreviations are accepted.\n    filt : array-like\n        The filter coefficients for filtering out the seasonal component.\n        The concrete moving average method used in filtering is determined by two_sided.\n    freq : int, optional\n        Frequency of the series. Must be used if x is not  a pandas object.\n        Overrides default periodicity of x if x is a pandas\n        object with a timeseries index.\n    two_sided : bool\n        The moving average method used in filtering.\n        If True (default), a centered moving average is computed using the filt.\n        If False, the filter coefficients are for past values only.\n    Returns\n    -------\n    results : obj\n        A object with seasonal, trend, and resid attributes.\n    Notes\n    -----\n    This is a naive decomposition. More sophisticated methods should\n    be preferred.\n    The additive model is Y[t] = T[t] + S[t] + e[t]\n    The multiplicative model is Y[t] = T[t] * S[t] * e[t]\n    The seasonal component is first removed by applying a convolution\n    filter to the data. The average of this smoothed series for each\n    period is the returned seasonal component.\n    See Also\n    --------\n    statsmodels.tsa.filters.bk_filter.bkfilter\n    statsmodels.tsa.filters.cf_filter.xffilter\n    statsmodels.tsa.filters.hp_filter.hpfilter\n    statsmodels.tsa.filters.convolution_filter\n    \"\"\"\n    _pandas_wrapper, pfreq = _maybe_get_pandas_wrapper_freq(x)\n    x = np.asanyarray(x).squeeze()\n    nobs = len(x)\n\n    if not np.all(np.isfinite(x)):\n        raise ValueError(\"This function does not handle missing values\")\n    if model.startswith('m'):\n        if np.any(x <= 0):\n            raise ValueError(\"Multiplicative seasonality is not appropriate \"\n                             \"for zero and negative values\")\n\n    if freq is None:\n        if pfreq is not None:\n            pfreq = freq_to_period(pfreq)\n            freq = pfreq\n        else:\n            raise ValueError(\"You must specify a freq or x must be a \"\n                             \"pandas object with a timeseries index with\"\n                             \"a freq not set to None\")\n\n    if filt is None:\n        if freq % 2 == 0:  # split weights at ends\n            filt = np.array([.5] + [1] * (freq - 1) + [.5]) / freq\n        else:\n            filt = np.repeat(1./freq, freq)\n\n    nsides = int(two_sided) + 1\n    trend = convolution_filter(x, filt, nsides)\n\n    # nan pad for conformability - convolve doesn't do it\n    if model.startswith('m'):\n        detrended = x / trend\n    else:\n        detrended = x - trend\n\n    period_averages = seasonal_mean(detrended, freq)\n\n    if model.startswith('m'):\n        period_averages /= np.mean(period_averages)\n    else:\n        period_averages -= np.mean(period_averages)\n\n    seasonal = np.tile(period_averages, nobs // freq + 1)[:nobs]\n\n    if model.startswith('m'):\n        resid = x / seasonal / trend\n    else:\n        resid = detrended - seasonal\n\n    results = lmap(_pandas_wrapper, [seasonal, trend, resid, x])\n    return DecomposeResult(seasonal=results[0], trend=results[1],\n                           resid=results[2], observed=results[3])"
        }, 
        {
            "cell_type": "code", 
            "metadata": {
                "collapsed": true
            }, 
            "outputs": [], 
            "execution_count": null, 
            "source": "x = log_passengers\n_pandas_wrapper, pfreq = _maybe_get_pandas_wrapper_freq(x)\nmodel = \"multiplicative\""
        }, 
        {
            "cell_type": "code", 
            "metadata": {
                "collapsed": false
            }, 
            "outputs": [], 
            "execution_count": null, 
            "source": "x = np.asanyarray(x).squeeze()"
        }, 
        {
            "cell_type": "code", 
            "metadata": {
                "collapsed": true
            }, 
            "outputs": [], 
            "execution_count": null, 
            "source": "nobs = len(x)"
        }, 
        {
            "cell_type": "code", 
            "metadata": {
                "collapsed": false
            }, 
            "outputs": [], 
            "execution_count": null, 
            "source": "nobs"
        }, 
        {
            "cell_type": "code", 
            "metadata": {
                "collapsed": true
            }, 
            "outputs": [], 
            "execution_count": null, 
            "source": "if not np.all(np.isfinite(x)):\n    raise ValueError(\"This function does not handle missing values\")\nif model.startswith('m'):\n    if np.any(x <= 0):\n        raise ValueError(\"Multiplicative seasonality is not appropriate \"\n                             \"for zero and negative values\")"
        }, 
        {
            "cell_type": "code", 
            "metadata": {
                "collapsed": false
            }, 
            "outputs": [], 
            "execution_count": null, 
            "source": "freq = None\nif freq is None:\n    if pfreq is not None:\n        pfreq = freq_to_period(pfreq)\n        freq = pfreq\n    else:\n        raise ValueError(\"You must specify a freq or x must be a \"\n                         \"pandas object with a timeseries index with\"\n                         \"a freq not set to None\")"
        }, 
        {
            "cell_type": "code", 
            "metadata": {
                "collapsed": false
            }, 
            "outputs": [], 
            "execution_count": null, 
            "source": "pfreq"
        }, 
        {
            "cell_type": "code", 
            "metadata": {
                "collapsed": false
            }, 
            "outputs": [], 
            "execution_count": null, 
            "source": "freq"
        }, 
        {
            "cell_type": "code", 
            "metadata": {
                "collapsed": false
            }, 
            "outputs": [], 
            "execution_count": null, 
            "source": "filt = None\ntwo_sided = True\nif filt is None:\n    if freq % 2 == 0:  # split weights at ends\n        filt = np.array([.5] + [1] * (freq - 1) + [.5]) / freq\n    else:\n        filt = np.repeat(1./freq, freq)\n\nnsides = int(two_sided) + 1\ntrend = convolution_filter(x, filt, nsides)\n"
        }, 
        {
            "cell_type": "code", 
            "metadata": {
                "collapsed": false
            }, 
            "outputs": [], 
            "execution_count": null, 
            "source": "plt.plot(trend)"
        }, 
        {
            "cell_type": "code", 
            "metadata": {
                "collapsed": false
            }, 
            "outputs": [], 
            "execution_count": null, 
            "source": "plt.plot(filt)"
        }, 
        {
            "cell_type": "code", 
            "metadata": {
                "collapsed": true
            }, 
            "outputs": [], 
            "execution_count": null, 
            "source": "if model.startswith('m'):\n    detrended = x / trend\nelse:\n    detrended = x - trend"
        }, 
        {
            "cell_type": "code", 
            "metadata": {
                "collapsed": false
            }, 
            "outputs": [], 
            "execution_count": null, 
            "source": "plt.plot(detrended)"
        }, 
        {
            "cell_type": "code", 
            "metadata": {
                "collapsed": true
            }, 
            "outputs": [], 
            "execution_count": null, 
            "source": "def seasonal_mean(x, freq):\n    \"\"\"\n    Return means for each period in x. freq is an int that gives the\n    number of periods per cycle. E.g., 12 for monthly. NaNs are ignored\n    in the mean.\n    \"\"\"\n    return np.array([pd_nanmean(x[i::freq]) for i in range(freq)])"
        }, 
        {
            "cell_type": "code", 
            "metadata": {
                "collapsed": false
            }, 
            "outputs": [], 
            "execution_count": null, 
            "source": "period_averages = seasonal_mean(detrended, freq)\n\nif model.startswith('m'):\n    period_averages /= np.mean(period_averages)\nelse:\n    period_averages -= np.mean(period_averages)\n\nseasonal = np.tile(period_averages, nobs // freq + 1)[:nobs]\n\nif model.startswith('m'):\n    resid = x / seasonal / trend\nelse:\n    resid = detrended - seasonal\n\n"
        }, 
        {
            "cell_type": "code", 
            "metadata": {
                "collapsed": false
            }, 
            "outputs": [], 
            "execution_count": null, 
            "source": "plt.plot(trend)"
        }, 
        {
            "cell_type": "code", 
            "metadata": {
                "collapsed": true
            }, 
            "outputs": [], 
            "execution_count": null, 
            "source": ""
        }
    ], 
    "metadata": {
        "kernelspec": {
            "display_name": "Python 3", 
            "name": "python3", 
            "language": "python"
        }, 
        "language_info": {
            "codemirror_mode": {
                "version": 3, 
                "name": "ipython"
            }, 
            "mimetype": "text/x-python", 
            "nbconvert_exporter": "python", 
            "pygments_lexer": "ipython3", 
            "version": "3.5.2", 
            "file_extension": ".py", 
            "name": "python"
        }, 
        "widgets": {
            "version": "1.1.1", 
            "state": {}
        }
    }, 
    "nbformat_minor": 0, 
    "nbformat": 4
}